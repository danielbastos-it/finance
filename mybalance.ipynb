{
  "nbformat": 4,
  "nbformat_minor": 0,
  "metadata": {
    "colab": {
      "name": "Untitled1.ipynb",
      "provenance": [],
      "authorship_tag": "ABX9TyO4CRDDIYwvdq2tyz71Mw5w",
      "include_colab_link": true
    },
    "kernelspec": {
      "name": "python3",
      "display_name": "Python 3"
    }
  },
  "cells": [
    {
      "cell_type": "markdown",
      "metadata": {
        "id": "view-in-github",
        "colab_type": "text"
      },
      "source": [
        "<a href=\"https://colab.research.google.com/github/danielbastos-it/finance/blob/main/mybalance.ipynb\" target=\"_parent\"><img src=\"https://colab.research.google.com/assets/colab-badge.svg\" alt=\"Open In Colab\"/></a>"
      ]
    },
    {
      "cell_type": "code",
      "metadata": {
        "colab": {
          "base_uri": "https://localhost:8080/"
        },
        "id": "EVwkHq1Jtev9",
        "outputId": "eac20b94-e9a9-4900-a2cd-f12ed1f21761"
      },
      "source": [
        "pip install python-binance"
      ],
      "execution_count": 2,
      "outputs": [
        {
          "output_type": "stream",
          "text": [
            "Collecting python-binance\n",
            "  Downloading https://files.pythonhosted.org/packages/79/8c/d41c21d4815627b12e6afbaddfe0b87f34a4c5a835af17c535ed680828e8/python_binance-0.7.9-py2.py3-none-any.whl\n",
            "Collecting Twisted\n",
            "\u001b[?25l  Downloading https://files.pythonhosted.org/packages/b7/04/1a664c9e5ec0224a1c1a154ddecaa4dc7b8967521bba225efcc41a03d5f3/Twisted-20.3.0-cp36-cp36m-manylinux1_x86_64.whl (3.1MB)\n",
            "\u001b[K     |████████████████████████████████| 3.1MB 7.7MB/s \n",
            "\u001b[?25hCollecting service-identity\n",
            "  Downloading https://files.pythonhosted.org/packages/e9/7c/2195b890023e098f9618d43ebc337d83c8b38d414326685339eb024db2f6/service_identity-18.1.0-py2.py3-none-any.whl\n",
            "Collecting cryptography\n",
            "\u001b[?25l  Downloading https://files.pythonhosted.org/packages/a6/a1/49543f8ae3165c598e6c1393c54f9af8eaf7111f86e769ab4b897cdcf096/cryptography-3.4.4-cp36-abi3-manylinux2014_x86_64.whl (3.2MB)\n",
            "\u001b[K     |████████████████████████████████| 3.2MB 53.8MB/s \n",
            "\u001b[?25hRequirement already satisfied: six in /usr/local/lib/python3.6/dist-packages (from python-binance) (1.15.0)\n",
            "Collecting pyOpenSSL\n",
            "\u001b[?25l  Downloading https://files.pythonhosted.org/packages/b2/5e/06351ede29fd4899782ad335c2e02f1f862a887c20a3541f17c3fa1a3525/pyOpenSSL-20.0.1-py2.py3-none-any.whl (54kB)\n",
            "\u001b[K     |████████████████████████████████| 61kB 7.4MB/s \n",
            "\u001b[?25hRequirement already satisfied: requests in /usr/local/lib/python3.6/dist-packages (from python-binance) (2.23.0)\n",
            "Collecting autobahn\n",
            "\u001b[?25l  Downloading https://files.pythonhosted.org/packages/b1/f0/bbf3a29dbb49118658f6b68d46eb23217b5692c6aad1f2fe38f9d7885f65/autobahn-21.2.1-py2.py3-none-any.whl (486kB)\n",
            "\u001b[K     |████████████████████████████████| 491kB 45.8MB/s \n",
            "\u001b[?25hRequirement already satisfied: urllib3 in /usr/local/lib/python3.6/dist-packages (from python-binance) (1.24.3)\n",
            "Collecting dateparser\n",
            "\u001b[?25l  Downloading https://files.pythonhosted.org/packages/78/c4/b5ddc3eeac974d85055d88c1e6b62cc492fc1a93dbe3b66a45a756a7b807/dateparser-1.0.0-py2.py3-none-any.whl (279kB)\n",
            "\u001b[K     |████████████████████████████████| 286kB 42.6MB/s \n",
            "\u001b[?25hCollecting ujson\n",
            "\u001b[?25l  Downloading https://files.pythonhosted.org/packages/8d/54/2a618356e54282e3f4fa0745cbddeed104ed5ff2930c98f2d9dfa9677af8/ujson-4.0.2-cp36-cp36m-manylinux1_x86_64.whl (179kB)\n",
            "\u001b[K     |████████████████████████████████| 184kB 47.4MB/s \n",
            "\u001b[?25hRequirement already satisfied: certifi in /usr/local/lib/python3.6/dist-packages (from python-binance) (2020.12.5)\n",
            "Collecting zope.interface>=4.4.2\n",
            "\u001b[?25l  Downloading https://files.pythonhosted.org/packages/82/b0/da8afd9b3bd50c7665ecdac062f182982af1173c9081f9af7261091c5588/zope.interface-5.2.0-cp36-cp36m-manylinux2010_x86_64.whl (236kB)\n",
            "\u001b[K     |████████████████████████████████| 245kB 43.6MB/s \n",
            "\u001b[?25hCollecting Automat>=0.3.0\n",
            "  Downloading https://files.pythonhosted.org/packages/dd/83/5f6f3c1a562674d65efc320257bdc0873ec53147835aeef7762fe7585273/Automat-20.2.0-py2.py3-none-any.whl\n",
            "Collecting hyperlink>=17.1.1\n",
            "\u001b[?25l  Downloading https://files.pythonhosted.org/packages/6e/aa/8caf6a0a3e62863cbb9dab27135660acba46903b703e224f14f447e57934/hyperlink-21.0.0-py2.py3-none-any.whl (74kB)\n",
            "\u001b[K     |████████████████████████████████| 81kB 8.3MB/s \n",
            "\u001b[?25hCollecting PyHamcrest!=1.10.0,>=1.9.0\n",
            "\u001b[?25l  Downloading https://files.pythonhosted.org/packages/40/16/e54cc65891f01cb62893540f44ffd3e8dab0a22443e1b438f1a9f5574bee/PyHamcrest-2.0.2-py3-none-any.whl (52kB)\n",
            "\u001b[K     |████████████████████████████████| 61kB 7.9MB/s \n",
            "\u001b[?25hRequirement already satisfied: attrs>=19.2.0 in /usr/local/lib/python3.6/dist-packages (from Twisted->python-binance) (20.3.0)\n",
            "Collecting incremental>=16.10.1\n",
            "  Downloading https://files.pythonhosted.org/packages/f5/1d/c98a587dc06e107115cf4a58b49de20b19222c83d75335a192052af4c4b7/incremental-17.5.0-py2.py3-none-any.whl\n",
            "Collecting constantly>=15.1\n",
            "  Downloading https://files.pythonhosted.org/packages/b9/65/48c1909d0c0aeae6c10213340ce682db01b48ea900a7d9fce7a7910ff318/constantly-15.1.0-py2.py3-none-any.whl\n",
            "Requirement already satisfied: pyasn1-modules in /usr/local/lib/python3.6/dist-packages (from service-identity->python-binance) (0.2.8)\n",
            "Requirement already satisfied: pyasn1 in /usr/local/lib/python3.6/dist-packages (from service-identity->python-binance) (0.4.8)\n",
            "Requirement already satisfied: cffi>=1.12 in /usr/local/lib/python3.6/dist-packages (from cryptography->python-binance) (1.14.4)\n",
            "Requirement already satisfied: chardet<4,>=3.0.2 in /usr/local/lib/python3.6/dist-packages (from requests->python-binance) (3.0.4)\n",
            "Requirement already satisfied: idna<3,>=2.5 in /usr/local/lib/python3.6/dist-packages (from requests->python-binance) (2.10)\n",
            "Collecting txaio>=20.4.1\n",
            "  Downloading https://files.pythonhosted.org/packages/32/17/f60229d6ee09fd90c0d9a43171882d8ba4dbbf13abd3322708e4e9e1d64d/txaio-20.12.1-py2.py3-none-any.whl\n",
            "Requirement already satisfied: python-dateutil in /usr/local/lib/python3.6/dist-packages (from dateparser->python-binance) (2.8.1)\n",
            "Requirement already satisfied: regex!=2019.02.19 in /usr/local/lib/python3.6/dist-packages (from dateparser->python-binance) (2019.12.20)\n",
            "Requirement already satisfied: pytz in /usr/local/lib/python3.6/dist-packages (from dateparser->python-binance) (2018.9)\n",
            "Requirement already satisfied: tzlocal in /usr/local/lib/python3.6/dist-packages (from dateparser->python-binance) (1.5.1)\n",
            "Requirement already satisfied: setuptools in /usr/local/lib/python3.6/dist-packages (from zope.interface>=4.4.2->Twisted->python-binance) (53.0.0)\n",
            "Requirement already satisfied: pycparser in /usr/local/lib/python3.6/dist-packages (from cffi>=1.12->cryptography->python-binance) (2.20)\n",
            "Installing collected packages: zope.interface, Automat, hyperlink, PyHamcrest, incremental, constantly, Twisted, cryptography, service-identity, pyOpenSSL, txaio, autobahn, dateparser, ujson, python-binance\n",
            "Successfully installed Automat-20.2.0 PyHamcrest-2.0.2 Twisted-20.3.0 autobahn-21.2.1 constantly-15.1.0 cryptography-3.4.4 dateparser-1.0.0 hyperlink-21.0.0 incremental-17.5.0 pyOpenSSL-20.0.1 python-binance-0.7.9 service-identity-18.1.0 txaio-20.12.1 ujson-4.0.2 zope.interface-5.2.0\n"
          ],
          "name": "stdout"
        }
      ]
    },
    {
      "cell_type": "code",
      "metadata": {
        "colab": {
          "base_uri": "https://localhost:8080/"
        },
        "id": "EQ21Jd-ptYA7",
        "outputId": "d3952c39-c0e9-4093-b7e7-9cf1a5a016ef"
      },
      "source": [
        "\r\n",
        "from binance.client import Client\r\n",
        "api_key = \"bE31ULr8zBE3SjRMPOK9qP0cm2GkEgM6RNsFw9TSE0mACeZLaLcuFOLn2m4TPZ8D\"\r\n",
        "api_secret = \"zFQviz0HnkuV8FIal9tvs8GSMEC57Tk8d2FEjOLOBC38Ix94y5jD5qLoWIpV87S3\"\r\n",
        "client = Client(api_key, api_secret)\r\n",
        "myassets = client.get_account()\r\n",
        "total = 0\r\n",
        "for asset in myassets['balances']: \r\n",
        "  global total\r\n",
        "  if (float(asset['free']) > 0) : \r\n",
        "    stock = asset['asset']\r\n",
        "    if (stock != 'USDT'):\r\n",
        "      tradesymbol = asset['asset'] + 'USDT'\r\n",
        "    else:\r\n",
        "      tradesymbol = 'USDCUSDT'\r\n",
        "    price = client.get_avg_price(symbol=tradesymbol)\r\n",
        "    totalpriceperstock = float(asset['free']) * float(price['price'])\r\n",
        "    print (asset['asset'], asset['free'], '${:,.8f}'.format(totalpriceperstock))\r\n",
        "    total = total + totalpriceperstock\r\n",
        "print ('Total: ', '${:,.2f}'.format(total))"
      ],
      "execution_count": 3,
      "outputs": [
        {
          "output_type": "stream",
          "text": [
            "BTC 0.00000094 $0.04497655\n",
            "LTC 0.00000001 $0.00000189\n",
            "ETH 0.05351554 $96.02369191\n",
            "BNB 0.00428187 $0.54438609\n",
            "USDT 97.51838900 $97.41740286\n",
            "ADA 311.60000000 $290.35100823\n",
            "BUSD 320.65772067 $320.31376396\n",
            "GRT 19.10000000 $32.22543596\n",
            "Total:  $836.92\n"
          ],
          "name": "stdout"
        }
      ]
    }
  ]
}