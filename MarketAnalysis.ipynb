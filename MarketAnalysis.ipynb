{
  "nbformat": 4,
  "nbformat_minor": 0,
  "metadata": {
    "colab": {
      "name": "MarketAnalysis.ipynb",
      "provenance": [],
      "authorship_tag": "ABX9TyOIExuDNwsWbCU/mj1sQgtB",
      "include_colab_link": true
    },
    "kernelspec": {
      "name": "python3",
      "display_name": "Python 3"
    }
  },
  "cells": [
    {
      "cell_type": "markdown",
      "metadata": {
        "id": "view-in-github",
        "colab_type": "text"
      },
      "source": [
        "<a href=\"https://colab.research.google.com/github/danielbastos-it/finance/blob/main/MarketAnalysis.ipynb\" target=\"_parent\"><img src=\"https://colab.research.google.com/assets/colab-badge.svg\" alt=\"Open In Colab\"/></a>"
      ]
    },
    {
      "cell_type": "code",
      "metadata": {
        "colab": {
          "base_uri": "https://localhost:8080/"
        },
        "id": "M-Mvv9jDzmD7",
        "outputId": "0494b685-04e1-402a-eb60-8733f6048d1b"
      },
      "source": [
        "pip install quandl plotly"
      ],
      "execution_count": 2,
      "outputs": [
        {
          "output_type": "stream",
          "text": [
            "Collecting quandl\n",
            "  Downloading https://files.pythonhosted.org/packages/c2/58/9f0e69d836045e3865d263e9ed49f42b23a58526fdabb30f74c430baee3f/Quandl-3.6.0-py2.py3-none-any.whl\n",
            "Requirement already satisfied: plotly in /usr/local/lib/python3.6/dist-packages (4.4.1)\n",
            "Collecting inflection>=0.3.1\n",
            "  Downloading https://files.pythonhosted.org/packages/59/91/aa6bde563e0085a02a435aa99b49ef75b0a4b062635e606dab23ce18d720/inflection-0.5.1-py2.py3-none-any.whl\n",
            "Requirement already satisfied: pandas>=0.14 in /usr/local/lib/python3.6/dist-packages (from quandl) (1.1.5)\n",
            "Requirement already satisfied: requests>=2.7.0 in /usr/local/lib/python3.6/dist-packages (from quandl) (2.23.0)\n",
            "Requirement already satisfied: six in /usr/local/lib/python3.6/dist-packages (from quandl) (1.15.0)\n",
            "Requirement already satisfied: more-itertools in /usr/local/lib/python3.6/dist-packages (from quandl) (8.6.0)\n",
            "Requirement already satisfied: python-dateutil in /usr/local/lib/python3.6/dist-packages (from quandl) (2.8.1)\n",
            "Requirement already satisfied: numpy>=1.8 in /usr/local/lib/python3.6/dist-packages (from quandl) (1.19.5)\n",
            "Requirement already satisfied: retrying>=1.3.3 in /usr/local/lib/python3.6/dist-packages (from plotly) (1.3.3)\n",
            "Requirement already satisfied: pytz>=2017.2 in /usr/local/lib/python3.6/dist-packages (from pandas>=0.14->quandl) (2018.9)\n",
            "Requirement already satisfied: idna<3,>=2.5 in /usr/local/lib/python3.6/dist-packages (from requests>=2.7.0->quandl) (2.10)\n",
            "Requirement already satisfied: certifi>=2017.4.17 in /usr/local/lib/python3.6/dist-packages (from requests>=2.7.0->quandl) (2020.12.5)\n",
            "Requirement already satisfied: urllib3!=1.25.0,!=1.25.1,<1.26,>=1.21.1 in /usr/local/lib/python3.6/dist-packages (from requests>=2.7.0->quandl) (1.24.3)\n",
            "Requirement already satisfied: chardet<4,>=3.0.2 in /usr/local/lib/python3.6/dist-packages (from requests>=2.7.0->quandl) (3.0.4)\n",
            "Installing collected packages: inflection, quandl\n",
            "Successfully installed inflection-0.5.1 quandl-3.6.0\n"
          ],
          "name": "stdout"
        }
      ]
    },
    {
      "cell_type": "code",
      "metadata": {
        "id": "u4FEDNKtzhU0"
      },
      "source": [
        "import os\r\n",
        "import numpy as np\r\n",
        "import pandas as pd\r\n",
        "import pickle\r\n",
        "import quandl\r\n",
        "from datetime import datetime\r\n"
      ],
      "execution_count": 3,
      "outputs": []
    },
    {
      "cell_type": "code",
      "metadata": {
        "id": "G3Kf-pPw0B1a"
      },
      "source": [
        "def get_quandl_data(quandl_id):\r\n",
        "    '''Download and cache Quandl dataseries'''\r\n",
        "    cache_path = '{}.pkl'.format(quandl_id).replace('/','-')\r\n",
        "    try:\r\n",
        "        f = open(cache_path, 'rb')\r\n",
        "        df = pickle.load(f)   \r\n",
        "        print('Loaded {} from cache'.format(quandl_id))\r\n",
        "    except (OSError, IOError) as e:\r\n",
        "        print('Downloading {} from Quandl'.format(quandl_id))\r\n",
        "        df = quandl.get(quandl_id, returns=\"pandas\")\r\n",
        "        df.to_pickle(cache_path)\r\n",
        "        print('Cached {} at {}'.format(quandl_id, cache_path))\r\n",
        "    return df"
      ],
      "execution_count": 4,
      "outputs": []
    },
    {
      "cell_type": "code",
      "metadata": {
        "colab": {
          "base_uri": "https://localhost:8080/"
        },
        "id": "jNrrjz9n0J6p",
        "outputId": "287dc3db-2d89-404d-c1d1-ff7521987b6b"
      },
      "source": [
        "# Pull Kraken BTC price exchange data\r\n",
        "btc_usd_price_kraken = get_quandl_data('BCHARTS/KRAKENUSD')"
      ],
      "execution_count": 5,
      "outputs": [
        {
          "output_type": "stream",
          "text": [
            "Downloading BCHARTS/KRAKENUSD from Quandl\n",
            "Cached BCHARTS/KRAKENUSD at BCHARTS-KRAKENUSD.pkl\n"
          ],
          "name": "stdout"
        }
      ]
    },
    {
      "cell_type": "code",
      "metadata": {
        "colab": {
          "base_uri": "https://localhost:8080/",
          "height": 235
        },
        "id": "Ly-iNVQe0N2c",
        "outputId": "f22d14db-046f-4e41-890b-d6f2e1d93b6d"
      },
      "source": [
        "btc_usd_price_kraken.head()"
      ],
      "execution_count": 6,
      "outputs": [
        {
          "output_type": "execute_result",
          "data": {
            "text/html": [
              "<div>\n",
              "<style scoped>\n",
              "    .dataframe tbody tr th:only-of-type {\n",
              "        vertical-align: middle;\n",
              "    }\n",
              "\n",
              "    .dataframe tbody tr th {\n",
              "        vertical-align: top;\n",
              "    }\n",
              "\n",
              "    .dataframe thead th {\n",
              "        text-align: right;\n",
              "    }\n",
              "</style>\n",
              "<table border=\"1\" class=\"dataframe\">\n",
              "  <thead>\n",
              "    <tr style=\"text-align: right;\">\n",
              "      <th></th>\n",
              "      <th>Open</th>\n",
              "      <th>High</th>\n",
              "      <th>Low</th>\n",
              "      <th>Close</th>\n",
              "      <th>Volume (BTC)</th>\n",
              "      <th>Volume (Currency)</th>\n",
              "      <th>Weighted Price</th>\n",
              "    </tr>\n",
              "    <tr>\n",
              "      <th>Date</th>\n",
              "      <th></th>\n",
              "      <th></th>\n",
              "      <th></th>\n",
              "      <th></th>\n",
              "      <th></th>\n",
              "      <th></th>\n",
              "      <th></th>\n",
              "    </tr>\n",
              "  </thead>\n",
              "  <tbody>\n",
              "    <tr>\n",
              "      <th>2014-01-07</th>\n",
              "      <td>874.67040</td>\n",
              "      <td>892.06753</td>\n",
              "      <td>810.00000</td>\n",
              "      <td>810.00000</td>\n",
              "      <td>15.622378</td>\n",
              "      <td>13151.472844</td>\n",
              "      <td>841.835522</td>\n",
              "    </tr>\n",
              "    <tr>\n",
              "      <th>2014-01-08</th>\n",
              "      <td>810.00000</td>\n",
              "      <td>899.84281</td>\n",
              "      <td>788.00000</td>\n",
              "      <td>824.98287</td>\n",
              "      <td>19.182756</td>\n",
              "      <td>16097.329584</td>\n",
              "      <td>839.156269</td>\n",
              "    </tr>\n",
              "    <tr>\n",
              "      <th>2014-01-09</th>\n",
              "      <td>825.56345</td>\n",
              "      <td>870.00000</td>\n",
              "      <td>807.42084</td>\n",
              "      <td>841.86934</td>\n",
              "      <td>8.158335</td>\n",
              "      <td>6784.249982</td>\n",
              "      <td>831.572913</td>\n",
              "    </tr>\n",
              "    <tr>\n",
              "      <th>2014-01-10</th>\n",
              "      <td>839.99000</td>\n",
              "      <td>857.34056</td>\n",
              "      <td>817.00000</td>\n",
              "      <td>857.33056</td>\n",
              "      <td>8.024510</td>\n",
              "      <td>6780.220188</td>\n",
              "      <td>844.938794</td>\n",
              "    </tr>\n",
              "    <tr>\n",
              "      <th>2014-01-11</th>\n",
              "      <td>858.20000</td>\n",
              "      <td>918.05471</td>\n",
              "      <td>857.16554</td>\n",
              "      <td>899.84105</td>\n",
              "      <td>18.748285</td>\n",
              "      <td>16698.566929</td>\n",
              "      <td>890.671709</td>\n",
              "    </tr>\n",
              "  </tbody>\n",
              "</table>\n",
              "</div>"
            ],
            "text/plain": [
              "                 Open       High  ...  Volume (Currency)  Weighted Price\n",
              "Date                              ...                                   \n",
              "2014-01-07  874.67040  892.06753  ...       13151.472844      841.835522\n",
              "2014-01-08  810.00000  899.84281  ...       16097.329584      839.156269\n",
              "2014-01-09  825.56345  870.00000  ...        6784.249982      831.572913\n",
              "2014-01-10  839.99000  857.34056  ...        6780.220188      844.938794\n",
              "2014-01-11  858.20000  918.05471  ...       16698.566929      890.671709\n",
              "\n",
              "[5 rows x 7 columns]"
            ]
          },
          "metadata": {
            "tags": []
          },
          "execution_count": 6
        }
      ]
    }
  ]
}